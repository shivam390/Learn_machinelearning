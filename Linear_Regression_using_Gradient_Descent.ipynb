{
 "cells": [
  {
   "cell_type": "markdown",
   "metadata": {},
   "source": [
    "# Gradient Descent "
   ]
  },
  {
   "cell_type": "markdown",
   "metadata": {},
   "source": [
    "## Ordinary Least Square (OLS) \n",
    "## \\begin{equation*} Mean Squared Error (MSE)  =\\frac{ \\sum (Yactual_i - Ypred_i)^2}{N} \\end{equation*}\n",
    "* __This is also called as the Cost/Loss function for OLS method of Linear Regression__\n",
    "* __The best line as per this metbhod is the Line which MINIMISES the loss function__\n",
    "* __(Side Note)Square Root of MSE is called as RMSE, which is also a parameter to check how good is our line__"
   ]
  },
  {
   "cell_type": "markdown",
   "metadata": {},
   "source": [
    "* __We can break the above equation to:__\n",
    "## \\begin{equation*}L =  \\frac{\\sum (Yactual_i - (m\\times Xactual_i + c))^2}{N} \\end{equation*}"
   ]
  },
  {
   "cell_type": "markdown",
   "metadata": {},
   "source": [
    "* __Since the values of Yactual and Xactual are fixed. The loss function really depends on m(slope) amd c__\n",
    "* __Gradient descent approach helps to find the value of m and c which minimises the Loss functions__"
   ]
  },
  {
   "cell_type": "markdown",
   "metadata": {},
   "source": [
    "### With Each step of Gradient Descent the values of m and c are updated:\n",
    "* ## \\begin{equation*} m = m - \\alpha\\times dm/dL  \\end{equation*}\n",
    "* ## \\begin{equation*} c = c - \\alpha\\times dc/dL  \\end{equation*}\n",
    "* dm/dL is the slope of Loss function wrt m\n",
    "* dc/dL is the slope of Loss function wrt c\n",
    "* alpha is the learning rate"
   ]
  },
  {
   "cell_type": "code",
   "execution_count": 1,
   "metadata": {},
   "outputs": [],
   "source": [
    "# Making the imports\n",
    "import numpy as np\n",
    "import pandas as pd\n",
    "import matplotlib.pyplot as plt"
   ]
  },
  {
   "cell_type": "code",
   "execution_count": 2,
   "metadata": {},
   "outputs": [
    {
     "data": {
      "image/png": "[encoded data removed]",
      "text/plain": [
       "<Figure size 864x360 with 1 Axes>"
      ]
     },
     "metadata": {
      "needs_background": "light"
     },
     "output_type": "display_data"
    }
   ],
   "source": [
    "plt.rcParams['figure.figsize'] = (12.0, 5.0)\n",
    "# Preprocessing Input data\n",
    "data = pd.read_csv('data.csv', header=None)\n",
    "X = data.iloc[:, 0]\n",
    "Y = data.iloc[:, 1]\n",
    "plt.scatter(X, Y)\n",
    "plt.show()"
   ]
  },
  {
   "cell_type": "code",
   "execution_count": 14,
   "metadata": {},
   "outputs": [
    {
     "name": "stdout",
     "output_type": "stream",
     "text": [
      "Cost:  5565.107834490553 Intercept:  0.029094020221559994 Slope:  1.4741405947241057\n",
      "Cost:  112.57949045409127 Intercept:  0.14847396324605508 Slope:  1.476573894881695\n",
      "Cost:  112.510430995817 Intercept:  0.26597282829927676 Slope:  1.4742644904896165\n",
      "Cost:  112.44342536571133 Intercept:  0.3817112980052717 Slope:  1.4719896861317154\n",
      "Cost:  112.37841248292803 Intercept:  0.49571574701691073 Slope:  1.469748963422226\n",
      "Cost:  112.3153330831652 Intercept:  0.6080121548358763 Slope:  1.4675418117419583\n",
      "Cost:  112.25412966464123 Intercept:  0.7186261117329088 Slope:  1.4653677281219377\n",
      "Cost:  112.19474643567732 Intercept:  0.8275828245793604 Slope:  1.4632262171287882\n",
      "Cost:  112.13712926383913 Intercept:  0.9349071225913596 Slope:  1.461116790751832\n",
      "Cost:  112.08122562659084 Intercept:  1.0406234629879445 Slope:  1.459038968291881\n"
     ]
    }
   ],
   "source": [
    "# Building the model\n",
    "c = 0\n",
    "m = 0\n",
    "\n",
    "alpha = 0.0002  # The learning Rate\n",
    "epochs = 10000  # The number of iterations to perform gradient descent\n",
    "n = len(X) # Number of elements in X\n",
    "\n",
    "# Performing Gradient Descent \n",
    "for i in range(epochs): \n",
    "    Y_pred = m*X + c  # The current predicted value of Y\n",
    "    Cost = np.sum((Y-Y_pred)**2)/n\n",
    "    D_m = (-2/n) * sum(X * (Y - Y_pred))  # Derivative wrt m\n",
    "    D_c = (-2/n) * sum(Y - Y_pred)  # Derivative wrt c\n",
    "    m = m - alpha * D_m  # Update m\n",
    "    c = c - alpha * D_c  # Update c\n",
    "#     print(Cost, c, m)\n",
    "\n",
    "    if (i)%1000==0:\n",
    "        print ('Cost: ', Cost, 'Intercept: ', c, 'Slope: ', m)"
   ]
  },
  {
   "cell_type": "code",
   "execution_count": 7,
   "metadata": {},
   "outputs": [
    {
     "name": "stdout",
     "output_type": "stream",
     "text": [
      "Starting Points:  c:  6 m:  3 \n",
      "\n",
      "Cost:  110.40960918206099 Intercept:  5.983022726854091 Slope:  1.3618976166523649\n",
      "Cost:  110.40732850923781 Intercept:  5.998121586047981 Slope:  1.3616008531753565\n",
      "Cost:  110.40508200585784 Intercept:  6.013106911503509 Slope:  1.361306321169383\n",
      "Cost:  110.40286915998837 Intercept:  6.027979556921569 Slope:  1.3610140038552136\n",
      "Cost:  110.40068946736663 Intercept:  6.042740369583806 Slope:  1.360723884579786\n",
      "Cost:  110.39854243128481 Intercept:  6.057390190400796 Slope:  1.3604359468152587\n",
      "Cost:  110.39642756247686 Intercept:  6.071929853960061 Slope:  1.3601501741580684\n",
      "Cost:  110.39434437900701 Intercept:  6.08636018857353 Slope:  1.3598665503279963\n",
      "Cost:  110.39229240615994 Intercept:  6.100682016324776 Slope:  1.3595850591672405\n",
      "Cost:  110.39027117633255 Intercept:  6.114896153115796 Slope:  1.3593056846394957\n",
      "\n",
      "\n",
      "Starting Points:  c:  6 m:  3 \n",
      "\n",
      "Cost:  110.40960918206099 Intercept:  5.983022726854091 Slope:  1.3618976166523649\n",
      "Cost:  110.40732850923781 Intercept:  5.998121586047981 Slope:  1.3616008531753565\n",
      "Cost:  110.40508200585784 Intercept:  6.013106911503509 Slope:  1.361306321169383\n",
      "Cost:  110.40286915998837 Intercept:  6.027979556921569 Slope:  1.3610140038552136\n",
      "Cost:  110.40068946736663 Intercept:  6.042740369583806 Slope:  1.360723884579786\n",
      "Cost:  110.39854243128481 Intercept:  6.057390190400796 Slope:  1.3604359468152587\n",
      "Cost:  110.39642756247686 Intercept:  6.071929853960061 Slope:  1.3601501741580684\n",
      "Cost:  110.39434437900701 Intercept:  6.08636018857353 Slope:  1.3598665503279963\n",
      "Cost:  110.39229240615994 Intercept:  6.100682016324776 Slope:  1.3595850591672405\n",
      "Cost:  110.39027117633255 Intercept:  6.114896153115796 Slope:  1.3593056846394957\n",
      "\n",
      "\n",
      "Starting Points:  c:  8 m:  1 \n",
      "\n",
      "Cost:  110.25739216634119 Intercept:  8.00621624473721 Slope:  1.3221323645019882\n",
      "Cost:  110.25739203573838 Intercept:  8.006101986134098 Slope:  1.322134610220019\n",
      "Cost:  110.25739190709226 Intercept:  8.005988586682403 Slope:  1.3221368390516908\n",
      "Cost:  110.25739178037352 Intercept:  8.005876039921873 Slope:  1.3221390511239772\n",
      "Cost:  110.25739165555336 Intercept:  8.005764339440827 Slope:  1.3221412465628983\n",
      "Cost:  110.25739153260325 Intercept:  8.005653478875772 Slope:  1.3221434254935265\n",
      "Cost:  110.2573914114952 Intercept:  8.00554345191107 Slope:  1.322145588039994\n",
      "Cost:  110.25739129220166 Intercept:  8.005434252278539 Slope:  1.3221477343254995\n",
      "Cost:  110.25739117469537 Intercept:  8.005325873757222 Slope:  1.3221498644723142\n",
      "Cost:  110.25739105894954 Intercept:  8.005218310172914 Slope:  1.3221519786017906\n",
      "\n",
      "\n",
      "Starting Points:  c:  7 m:  9 \n",
      "\n",
      "Cost:  110.30583886691221 Intercept:  6.858123882758408 Slope:  1.3446977700662452\n",
      "Cost:  110.30511289928282 Intercept:  6.866642542455123 Slope:  1.3445303384054434\n",
      "Cost:  110.30439780822867 Intercept:  6.875097147293865 Slope:  1.344364165723358\n",
      "Cost:  110.30369343079506 Intercept:  6.883488178926094 Slope:  1.3441992425532767\n",
      "Cost:  110.30299960646859 Intercept:  6.891816115381549 Slope:  1.3440355594996702\n",
      "Cost:  110.30231617714072 Intercept:  6.900081431095489 Slope:  1.3438731072376588\n",
      "Cost:  110.30164298707176 Intercept:  6.9082845969357525 Slope:  1.343711876512478\n",
      "Cost:  110.30097988285537 Intercept:  6.91642608022953 Slope:  1.3435518581389543\n",
      "Cost:  110.3003267133835 Intercept:  6.924506344789986 Slope:  1.3433930430009815\n",
      "Cost:  110.29968332981207 Intercept:  6.932525850942748 Slope:  1.3432354220509994\n",
      "\n",
      "\n",
      "Starting Points:  c:  9 m:  3 \n",
      "\n",
      "Cost:  110.29278121104737 Intercept:  8.95931488809142 Slope:  1.3033995010649715\n",
      "Cost:  110.29225087552491 Intercept:  8.952033938904675 Slope:  1.3035426059028161\n",
      "Cost:  110.29172848558294 Intercept:  8.944807737786626 Slope:  1.3036846346840518\n",
      "Cost:  110.29121392217931 Intercept:  8.937635873066863 Slope:  1.3038255954999345\n",
      "Cost:  110.29070706805558 Intercept:  8.930517936170514 Slope:  1.3039654963808796\n",
      "Cost:  110.29020780770983 Intercept:  8.92345352159497 Slope:  1.3041043452969163\n",
      "Cost:  110.28971602737082 Intercept:  8.91644222688669 Slope:  1.3042421501581476\n",
      "Cost:  110.28923161497168 Intercept:  8.909483652618276 Slope:  1.3043789188151962\n",
      "Cost:  110.28875446012471 Intercept:  8.902577402365909 Slope:  1.3045146590596521\n",
      "Cost:  110.28828445409592 Intercept:  8.895723082686493 Slope:  1.3046493786245192\n",
      "\n",
      "\n",
      "Starting Points:  c:  9 m:  7 \n",
      "\n",
      "Cost:  110.28730820796014 Intercept:  8.881317400641514 Slope:  1.304932517915869\n",
      "Cost:  110.28685986993678 Intercept:  8.874622942541226 Slope:  1.3050640954501065\n",
      "Cost:  110.28641824899292 Intercept:  8.867978822472743 Slope:  1.3051946836056658\n",
      "Cost:  110.28598324449209 Intercept:  8.861384661926396 Slope:  1.30532428982204\n",
      "Cost:  110.28555475730542 Intercept:  8.854840085238523 Slope:  1.3054529214827837\n",
      "Cost:  110.28513268978959 Intercept:  8.848344719570381 Slope:  1.3055805859159284\n",
      "Cost:  110.28471694576378 Intercept:  8.841898194886646 Slope:  1.3057072903944058\n",
      "Cost:  110.28430743048844 Intercept:  8.835500143934457 Slope:  1.3058330421364592\n",
      "Cost:  110.28390405064327 Intercept:  8.829150202222392 Slope:  1.305957848306056\n",
      "Cost:  110.28350671430626 Intercept:  8.822848007999806 Slope:  1.3060817160132956\n",
      "\n",
      "\n",
      "Starting Points:  c:  3 m:  9 \n",
      "\n",
      "Cost:  111.23985699667168 Intercept:  2.889734334441966 Slope:  1.4226952575161034\n",
      "Cost:  111.2251374044177 Intercept:  2.9280927386462174 Slope:  1.4219413347688301\n",
      "Cost:  111.21063834369522 Intercept:  2.96616271224978 Slope:  1.4211930810371318\n",
      "Cost:  111.19635651046188 Intercept:  3.003946424065802 Slope:  1.4204504536936469\n",
      "Cost:  111.18228865017714 Intercept:  3.0414460265993633 Slope:  1.4197134104315439\n",
      "Cost:  111.16843155706043 Intercept:  3.078663656170053 Slope:  1.4189819092621125\n",
      "Cost:  111.15478207336074 Intercept:  3.1156014330337367 Slope:  1.4182559085123694\n",
      "Cost:  111.14133708863723 Intercept:  3.1522614615033033 Slope:  1.4175353668226858\n",
      "Cost:  111.12809353905003 Intercept:  3.1886458300685567 Slope:  1.416820243144431\n",
      "Cost:  111.11504840666234 Intercept:  3.2247566115151955 Slope:  1.4161104967376341\n",
      "\n",
      "\n",
      "Starting Points:  c:  4 m:  8 \n",
      "\n",
      "Cost:  110.88883809989414 Intercept:  3.9013310933835426 Slope:  1.4028126314409146\n",
      "Cost:  110.87937753476301 Intercept:  3.932082938689291 Slope:  1.402208213291161\n",
      "Cost:  110.87005870948995 Intercept:  3.962603549839249 Slope:  1.4016083399782853\n",
      "Cost:  110.86087950050342 Intercept:  3.9928946655659763 Slope:  1.4010129773280282\n",
      "Cost:  110.85183781604758 Intercept:  4.022958011527885 Slope:  1.4004220914231\n",
      "Cost:  110.84293159570552 Intercept:  4.0527953004075234 Slope:  1.3998356486012469\n",
      "Cost:  110.83415880993002 Intercept:  4.082408232009205 Slope:  1.3992536154533326\n",
      "Cost:  110.8255174595808 Intercept:  4.111798493355789 Slope:  1.3986759588214377\n",
      "Cost:  110.8170055754691 Intercept:  4.140967758784766 Slope:  1.3981026457969683\n",
      "Cost:  110.80862121790891 Intercept:  4.169917690043735 Slope:  1.3975336437187817\n",
      "\n",
      "\n",
      "Starting Points:  c:  7 m:  4 \n",
      "\n",
      "Cost:  110.29785761765444 Intercept:  6.9556207420707326 Slope:  1.3427814990026246\n",
      "Cost:  110.29725122651136 Intercept:  6.963406287909363 Slope:  1.342628476471332\n",
      "Cost:  110.29665392042754 Intercept:  6.971133291436087 Slope:  1.3424766045713425\n",
      "Cost:  110.296065563289 Intercept:  6.97880219285156 Slope:  1.342325874650647\n",
      "Cost:  110.29548602102105 Intercept:  6.986413429046386 Slope:  1.342176278122293\n",
      "Cost:  110.29491516155767 Intercept:  6.993967433626058 Slope:  1.342027806463897\n",
      "Cost:  110.29435285481172 Intercept:  7.001464636935625 Slope:  1.3418804512171585\n",
      "Cost:  110.29379897264471 Intercept:  7.0089054660841805 Slope:  1.341734203987378\n",
      "Cost:  110.2932533888382 Intercept:  7.016290344969286 Slope:  1.3415890564429784\n",
      "Cost:  110.29271597906467 Intercept:  7.023619694301045 Slope:  1.3414450003150304\n",
      "\n",
      "\n",
      "Starting Points:  c:  4 m:  3 \n",
      "\n",
      "Cost:  110.85908963287697 Intercept:  3.9988279526958634 Slope:  1.400896360377294\n",
      "Cost:  110.85007476453407 Intercept:  4.02884668414352 Slope:  1.40030635135705\n",
      "Cost:  110.84119495854128 Intercept:  4.05863969398145 Slope:  1.3997207788262702\n",
      "Cost:  110.83244819137055 Intercept:  4.08820867949142 Slope:  1.399139609425399\n",
      "Cost:  110.82383246981081 Intercept:  4.117555325192704 Slope:  1.398562810045723\n",
      "Cost:  110.81534583051354 Intercept:  4.14668130293807 Slope:  1.3979903478274858\n",
      "Cost:  110.80698633954546 Intercept:  4.175588272009054 Slope:  1.397422190158014\n",
      "Cost:  110.7987520919479 Intercept:  4.2042778792104185 Slope:  1.396858304669862\n",
      "Cost:  110.79064121130246 Intercept:  4.232751758964034 Slope:  1.396298659238966\n",
      "Cost:  110.7826518493038 Intercept:  4.2610115334019865 Slope:  1.3957432219828136\n",
      "\n",
      "\n"
     ]
    }
   ],
   "source": [
    "# Building the model with different starting points\n",
    "for x in range(10):\n",
    "    m = np.random.randint(1,10)\n",
    "    c = np.random.randint(1,10)\n",
    "    print('Starting Points: ', 'c: ', c, 'm: ', m, '\\n' )\n",
    "\n",
    "    L = 0.0001  # The learning Rate\n",
    "    epochs = 10000  # The number of iterations to perform gradient descent\n",
    "    n = len(X) # Number of elements in X\n",
    "\n",
    "    # Performing Gradient Descent \n",
    "    for i in range(epochs): \n",
    "        Y_pred = m*X + c  # The current predicted value of Y\n",
    "        Cost = np.sum((Y-Y_pred)**2)/n\n",
    "        D_m = (-2/n) * sum(X * (Y - Y_pred))  # Derivative wrt m\n",
    "        D_c = (-2/n) * sum(Y - Y_pred)  # Derivative wrt c\n",
    "        m = m - L * D_m  # Update m\n",
    "        c = c - L * D_c  # Update c\n",
    "    #     print(c, m)\n",
    "        if (i+1)%1000==0:\n",
    "            print ('Cost: ', Cost, 'Intercept: ', c, 'Slope: ', m)\n",
    "    print('\\n')"
   ]
  },
  {
   "cell_type": "code",
   "execution_count": 15,
   "metadata": {},
   "outputs": [
    {
     "data": {
      "image/png": "[encoded data removed]",
      "text/plain": [
       "<Figure size 864x360 with 1 Axes>"
      ]
     },
     "metadata": {
      "needs_background": "light"
     },
     "output_type": "display_data"
    }
   ],
   "source": [
    "# Making predictions\n",
    "Y_pred = m*X + c\n",
    "plt.scatter(X, Y) \n",
    "# Plotting regression line\n",
    "plt.plot([min(X), max(X)], [min(Y_pred), max(Y_pred)], color='red')\n",
    "plt.plot(X, Y_pred, c='r')\n",
    "plt.show()"
   ]
  },
  {
   "cell_type": "code",
   "execution_count": 16,
   "metadata": {},
   "outputs": [
    {
     "data": {
      "text/plain": [
       "1.456994307549909"
      ]
     },
     "execution_count": 16,
     "metadata": {},
     "output_type": "execute_result"
    }
   ],
   "source": [
    "m"
   ]
  },
  {
   "cell_type": "code",
   "execution_count": 17,
   "metadata": {},
   "outputs": [
    {
     "data": {
      "text/plain": [
       "1.1446525873044187"
      ]
     },
     "execution_count": 17,
     "metadata": {},
     "output_type": "execute_result"
    }
   ],
   "source": [
    "c"
   ]
  },
  {
   "cell_type": "code",
   "execution_count": null,
   "metadata": {},
   "outputs": [],
   "source": []
  }
 ],
 "metadata": {
  "kernelspec": {
   "display_name": "Python 3",
   "language": "python",
   "name": "python3"
  },
  "language_info": {
   "codemirror_mode": {
    "name": "ipython",
    "version": 3
   },
   "file_extension": ".py",
   "mimetype": "text/x-python",
   "name": "python",
   "nbconvert_exporter": "python",
   "pygments_lexer": "ipython3",
   "version": "3.6.5"
  }
 },
 "nbformat": 4,
 "nbformat_minor": 2
}
